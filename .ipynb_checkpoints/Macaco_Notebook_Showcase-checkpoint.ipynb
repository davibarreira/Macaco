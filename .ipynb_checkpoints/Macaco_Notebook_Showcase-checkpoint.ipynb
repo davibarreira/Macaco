{
 "cells": [
  {
   "cell_type": "markdown",
   "metadata": {},
   "source": [
    "# Macaco Showcase\n",
    "Esse notebook é um showcase do dataframe Macaco. Seu objetivo é mostrar o uso de suas funcionalidades.\n",
    "Note que para utilizar esse Notebook é necessário ter as biblioteca Pandas, Seaborn e Numpy. As bibliotecas\n",
    "Matplotlib e Tabulate são instaladas automaticamente ao instalar a biblioteca Macaco. Caso não queira instalar\n",
    "essas bibliotecas extras não tem problema, este documento é auto-explicativo.\n",
    "\n",
    "Nesse showcase usaremos o conhecido DataBase Iris."
   ]
  },
  {
   "cell_type": "code",
   "execution_count": 2,
   "metadata": {
    "scrolled": true
   },
   "outputs": [],
   "source": [
    "import Macaco as mc\n",
    "import pandas as pd\n",
    "import seaborn as sns\n",
    "import numpy as np\n",
    "from tabulate import tabulate\n",
    "from matplotlib import pyplot as plt\n",
    "\n",
    "\n",
    "iris = sns.load_dataset('iris')"
   ]
  },
  {
   "cell_type": "markdown",
   "metadata": {},
   "source": [
    "## Criando o DataFrame\n",
    "Abaixo mostramos como criar o dataframe. Note que como dado de entrada, a classe DataFrameMc recebe\n",
    "um dicionário com os valores em listas\n",
    "\n",
    "* Exemplo de dado de entrada: *{'coluna1':[0,1,30],'coluna2':['string1','string2','string3']}*\n",
    "\n",
    "O método *.Show()* recebe a mesma estrutura e printa os dados de forma tabular, sendo mais fácil analisar\n",
    "o que está dentro do DataFrame. O método *.GetDados()* retorna um dicionário no mesmo formato que foi fornecido\n",
    "no input do dataframe."
   ]
  },
  {
   "cell_type": "code",
   "execution_count": 53,
   "metadata": {},
   "outputs": [
    {
     "name": "stdout",
     "output_type": "stream",
     "text": [
      "  sepal_length    sepal_width    petal_length    petal_width  species\n",
      "--------------  -------------  --------------  -------------  ----------\n",
      "           5.1            3.5             1.4            0.2  setosa\n",
      "           4.9            3               1.4            0.2  setosa\n",
      "           4.7            3.2             1.3            0.2  setosa\n",
      "           4.6            3.1             1.5            0.2  setosa\n",
      "           5              3.6             1.4            0.2  setosa\n",
      "           5.4            3.9             1.7            0.4  setosa\n",
      "           4.6            3.4             1.4            0.3  setosa\n",
      "           5              3.4             1.5            0.2  setosa\n",
      "           4.4            2.9             1.4            0.2  setosa\n",
      "           4.9            3.1             1.5            0.1  setosa\n",
      "           5.4            3.7             1.5            0.2  setosa\n",
      "           4.8            3.4             1.6            0.2  setosa\n",
      "           4.8            3               1.4            0.1  setosa\n",
      "           4.3            3               1.1            0.1  setosa\n",
      "           5.8            4               1.2            0.2  setosa\n",
      "           5.7            4.4             1.5            0.4  setosa\n",
      "           5.4            3.9             1.3            0.4  setosa\n",
      "           5.1            3.5             1.4            0.3  setosa\n",
      "           5.7            3.8             1.7            0.3  setosa\n",
      "           5.1            3.8             1.5            0.3  setosa\n",
      "           5.4            3.4             1.7            0.2  setosa\n",
      "           5.1            3.7             1.5            0.4  setosa\n",
      "           4.6            3.6             1              0.2  setosa\n",
      "           5.1            3.3             1.7            0.5  setosa\n",
      "           4.8            3.4             1.9            0.2  setosa\n",
      "           5              3               1.6            0.2  setosa\n",
      "           5              3.4             1.6            0.4  setosa\n",
      "           5.2            3.5             1.5            0.2  setosa\n",
      "           5.2            3.4             1.4            0.2  setosa\n",
      "           4.7            3.2             1.6            0.2  setosa\n",
      "           4.8            3.1             1.6            0.2  setosa\n",
      "           5.4            3.4             1.5            0.4  setosa\n",
      "           5.2            4.1             1.5            0.1  setosa\n",
      "           5.5            4.2             1.4            0.2  setosa\n",
      "           4.9            3.1             1.5            0.2  setosa\n",
      "           5              3.2             1.2            0.2  setosa\n",
      "           5.5            3.5             1.3            0.2  setosa\n",
      "           4.9            3.6             1.4            0.1  setosa\n",
      "           4.4            3               1.3            0.2  setosa\n",
      "           5.1            3.4             1.5            0.2  setosa\n",
      "           5              3.5             1.3            0.3  setosa\n",
      "           4.5            2.3             1.3            0.3  setosa\n",
      "           4.4            3.2             1.3            0.2  setosa\n",
      "           5              3.5             1.6            0.6  setosa\n",
      "           5.1            3.8             1.9            0.4  setosa\n",
      "           4.8            3               1.4            0.3  setosa\n",
      "           5.1            3.8             1.6            0.2  setosa\n",
      "           4.6            3.2             1.4            0.2  setosa\n",
      "           5.3            3.7             1.5            0.2  setosa\n",
      "           5              3.3             1.4            0.2  setosa\n",
      "           7              3.2             4.7            1.4  versicolor\n",
      "           6.4            3.2             4.5            1.5  versicolor\n",
      "           6.9            3.1             4.9            1.5  versicolor\n",
      "           5.5            2.3             4              1.3  versicolor\n",
      "           6.5            2.8             4.6            1.5  versicolor\n",
      "           5.7            2.8             4.5            1.3  versicolor\n",
      "           6.3            3.3             4.7            1.6  versicolor\n",
      "           4.9            2.4             3.3            1    versicolor\n",
      "           6.6            2.9             4.6            1.3  versicolor\n",
      "           5.2            2.7             3.9            1.4  versicolor\n",
      "           5              2               3.5            1    versicolor\n",
      "           5.9            3               4.2            1.5  versicolor\n",
      "           6              2.2             4              1    versicolor\n",
      "           6.1            2.9             4.7            1.4  versicolor\n",
      "           5.6            2.9             3.6            1.3  versicolor\n",
      "           6.7            3.1             4.4            1.4  versicolor\n",
      "           5.6            3               4.5            1.5  versicolor\n",
      "           5.8            2.7             4.1            1    versicolor\n",
      "           6.2            2.2             4.5            1.5  versicolor\n",
      "           5.6            2.5             3.9            1.1  versicolor\n",
      "           5.9            3.2             4.8            1.8  versicolor\n",
      "           6.1            2.8             4              1.3  versicolor\n",
      "           6.3            2.5             4.9            1.5  versicolor\n",
      "           6.1            2.8             4.7            1.2  versicolor\n",
      "           6.4            2.9             4.3            1.3  versicolor\n",
      "           6.6            3               4.4            1.4  versicolor\n",
      "           6.8            2.8             4.8            1.4  versicolor\n",
      "           6.7            3               5              1.7  versicolor\n",
      "           6              2.9             4.5            1.5  versicolor\n",
      "           5.7            2.6             3.5            1    versicolor\n",
      "           5.5            2.4             3.8            1.1  versicolor\n",
      "           5.5            2.4             3.7            1    versicolor\n",
      "           5.8            2.7             3.9            1.2  versicolor\n",
      "           6              2.7             5.1            1.6  versicolor\n",
      "           5.4            3               4.5            1.5  versicolor\n",
      "           6              3.4             4.5            1.6  versicolor\n",
      "           6.7            3.1             4.7            1.5  versicolor\n",
      "           6.3            2.3             4.4            1.3  versicolor\n",
      "           5.6            3               4.1            1.3  versicolor\n",
      "           5.5            2.5             4              1.3  versicolor\n",
      "           5.5            2.6             4.4            1.2  versicolor\n",
      "           6.1            3               4.6            1.4  versicolor\n",
      "           5.8            2.6             4              1.2  versicolor\n",
      "           5              2.3             3.3            1    versicolor\n",
      "           5.6            2.7             4.2            1.3  versicolor\n",
      "           5.7            3               4.2            1.2  versicolor\n",
      "           5.7            2.9             4.2            1.3  versicolor\n",
      "           6.2            2.9             4.3            1.3  versicolor\n",
      "           5.1            2.5             3              1.1  versicolor\n",
      "           5.7            2.8             4.1            1.3  versicolor\n",
      "           6.3            3.3             6              2.5  virginica\n",
      "           5.8            2.7             5.1            1.9  virginica\n",
      "           7.1            3               5.9            2.1  virginica\n",
      "           6.3            2.9             5.6            1.8  virginica\n",
      "           6.5            3               5.8            2.2  virginica\n",
      "           7.6            3               6.6            2.1  virginica\n",
      "           4.9            2.5             4.5            1.7  virginica\n",
      "           7.3            2.9             6.3            1.8  virginica\n",
      "           6.7            2.5             5.8            1.8  virginica\n",
      "           7.2            3.6             6.1            2.5  virginica\n",
      "           6.5            3.2             5.1            2    virginica\n",
      "           6.4            2.7             5.3            1.9  virginica\n",
      "           6.8            3               5.5            2.1  virginica\n",
      "           5.7            2.5             5              2    virginica\n",
      "           5.8            2.8             5.1            2.4  virginica\n",
      "           6.4            3.2             5.3            2.3  virginica\n",
      "           6.5            3               5.5            1.8  virginica\n",
      "           7.7            3.8             6.7            2.2  virginica\n",
      "           7.7            2.6             6.9            2.3  virginica\n",
      "           6              2.2             5              1.5  virginica\n",
      "           6.9            3.2             5.7            2.3  virginica\n",
      "           5.6            2.8             4.9            2    virginica\n",
      "           7.7            2.8             6.7            2    virginica\n",
      "           6.3            2.7             4.9            1.8  virginica\n",
      "           6.7            3.3             5.7            2.1  virginica\n",
      "           7.2            3.2             6              1.8  virginica\n",
      "           6.2            2.8             4.8            1.8  virginica\n",
      "           6.1            3               4.9            1.8  virginica\n",
      "           6.4            2.8             5.6            2.1  virginica\n",
      "           7.2            3               5.8            1.6  virginica\n",
      "           7.4            2.8             6.1            1.9  virginica\n",
      "           7.9            3.8             6.4            2    virginica\n",
      "           6.4            2.8             5.6            2.2  virginica\n",
      "           6.3            2.8             5.1            1.5  virginica\n",
      "           6.1            2.6             5.6            1.4  virginica\n",
      "           7.7            3               6.1            2.3  virginica\n",
      "           6.3            3.4             5.6            2.4  virginica\n",
      "           6.4            3.1             5.5            1.8  virginica\n",
      "           6              3               4.8            1.8  virginica\n",
      "           6.9            3.1             5.4            2.1  virginica\n",
      "           6.7            3.1             5.6            2.4  virginica\n",
      "           6.9            3.1             5.1            2.3  virginica\n",
      "           5.8            2.7             5.1            1.9  virginica\n",
      "           6.8            3.2             5.9            2.3  virginica\n",
      "           6.7            3.3             5.7            2.5  virginica\n",
      "           6.7            3               5.2            2.3  virginica\n",
      "           6.3            2.5             5              1.9  virginica\n",
      "           6.5            3               5.2            2    virginica\n",
      "           6.2            3.4             5.4            2.3  virginica\n",
      "           5.9            3               5.1            1.8  virginica\n"
     ]
    }
   ],
   "source": [
    "data = iris.to_dict('list')\n",
    "df = mc.DataFrameMc(data)\n",
    "df.Show(df.GetDados())"
   ]
  },
  {
   "cell_type": "markdown",
   "metadata": {},
   "source": [
    "## Atributos para Gerenciar o DataFrame \n",
    "A classe DataFrameMc() contém alguns atributos que são utilizados para gerenciar os dados e permitir que\n",
    "o código de python do usuário se comunique com a biblioteca em C++ de maneira mais fácil (sem precisar\n",
    "explicitamente informar o tipo do dado e coisas do gênero)."
   ]
  },
  {
   "cell_type": "code",
   "execution_count": 55,
   "metadata": {},
   "outputs": [
    {
     "data": {
      "text/plain": [
       "{'sepal_length': 'double',\n",
       " 'sepal_width': 'double',\n",
       " 'petal_length': 'double',\n",
       " 'petal_width': 'double',\n",
       " 'species': 'string'}"
      ]
     },
     "execution_count": 55,
     "metadata": {},
     "output_type": "execute_result"
    }
   ],
   "source": [
    "df.colunas # Lista de colunas com o determinado tipo"
   ]
  },
  {
   "cell_type": "markdown",
   "metadata": {},
   "source": [
    "Perceba que tipo de colunas é inferido através dos dados fornecidos pelo usuário. Quando temos somente inteiros,\n",
    "a coluna é do tipo 'int'. Quando temos floats e inteiros ou somente floats, a coluna é do tipo 'double'. Quando\n",
    "temos strings ou tipos misturados, os dados são todos convertidos para strings e a coluna é do tipo 'string'.\n",
    "\n",
    "Lembre que os únicos tipos de dados permitidos são **string**, **int** e **double**."
   ]
  },
  {
   "cell_type": "code",
   "execution_count": 60,
   "metadata": {},
   "outputs": [
    {
     "data": {
      "text/plain": [
       "[150, 5]"
      ]
     },
     "execution_count": 60,
     "metadata": {},
     "output_type": "execute_result"
    }
   ],
   "source": [
    "df.shape # Quantidade de linhas, Quantidade de Colunas"
   ]
  },
  {
   "cell_type": "code",
   "execution_count": 62,
   "metadata": {},
   "outputs": [
    {
     "data": {
      "text/plain": [
       "[]"
      ]
     },
     "execution_count": 62,
     "metadata": {},
     "output_type": "execute_result"
    }
   ],
   "source": [
    "df.indices # Colunas indexadas. Até o momento não indexamos nada."
   ]
  },
  {
   "cell_type": "markdown",
   "metadata": {},
   "source": [
    "## Slicing e Seleção de Coluna\n",
    "\n",
    "Abaixo mostramos como selecionar colunas, linhas e fazer slices de forma geral."
   ]
  },
  {
   "cell_type": "code",
   "execution_count": 46,
   "metadata": {},
   "outputs": [
    {
     "name": "stdout",
     "output_type": "stream",
     "text": [
      "Selecionando a coluna species\n",
      "\n",
      "['setosa', 'setosa', 'setosa', 'setosa', 'setosa', 'setosa', 'setosa', 'setosa', 'setosa', 'setosa', 'setosa', 'setosa', 'setosa', 'setosa', 'setosa', 'setosa', 'setosa', 'setosa', 'setosa', 'setosa', 'setosa', 'setosa', 'setosa', 'setosa', 'setosa', 'setosa', 'setosa', 'setosa', 'setosa', 'setosa', 'setosa', 'setosa', 'setosa', 'setosa', 'setosa', 'setosa', 'setosa', 'setosa', 'setosa', 'setosa', 'setosa', 'setosa', 'setosa', 'setosa', 'setosa', 'versicolor', 'versicolor', 'versicolor', 'versicolor', 'versicolor', 'versicolor', 'versicolor', 'versicolor', 'versicolor', 'versicolor', 'versicolor', 'versicolor', 'versicolor', 'versicolor', 'versicolor', 'versicolor', 'versicolor', 'versicolor', 'versicolor', 'versicolor', 'versicolor', 'versicolor', 'versicolor', 'versicolor', 'versicolor', 'versicolor', 'versicolor', 'versicolor', 'versicolor', 'versicolor', 'versicolor', 'versicolor', 'versicolor', 'versicolor', 'versicolor', 'versicolor', 'versicolor', 'versicolor', 'versicolor', 'versicolor', 'versicolor', 'versicolor', 'versicolor', 'versicolor', 'versicolor', 'versicolor', 'versicolor', 'versicolor', 'versicolor', 'versicolor', 'virginica', 'virginica', 'virginica', 'virginica', 'virginica', 'virginica', 'virginica', 'virginica', 'virginica', 'virginica', 'virginica', 'virginica', 'virginica', 'virginica', 'virginica', 'virginica', 'virginica', 'virginica', 'virginica', 'virginica', 'virginica', 'virginica', 'virginica', 'virginica', 'virginica', 'virginica', 'virginica', 'virginica', 'virginica', 'virginica', 'virginica', 'virginica', 'virginica', 'virginica', 'virginica', 'virginica', 'virginica', 'virginica', 'virginica', 'virginica', 'virginica', 'virginica', 'virginica', 'virginica', 'virginica', 'virginica', 'virginica', 'virginica', 'virginica', 'virginica']\n",
      "-----------------------------------------------------------\n",
      "Selecionando linhas 0 a 40\n",
      "\n",
      "{'sepal_length': [5.0, 4.6, 5.0, 4.4, 4.9, 5.4, 4.8, 4.8, 4.3, 5.8, 5.7, 5.4, 5.1, 5.7, 5.1, 5.4, 5.1, 4.6, 5.1, 4.8, 5.0, 5.0, 5.2, 5.2, 4.7, 4.8, 5.4, 5.2, 5.5, 4.9, 5.0, 5.5, 4.9, 4.4, 5.1, 5.0, 4.5, 4.4, 5.0, 5.1], 'sepal_width': [3.6, 3.4, 3.4, 2.9, 3.1, 3.7, 3.4, 3.0, 3.0, 4.0, 4.4, 3.9, 3.5, 3.8, 3.8, 3.4, 3.7, 3.6, 3.3, 3.4, 3.0, 3.4, 3.5, 3.4, 3.2, 3.1, 3.4, 4.1, 4.2, 3.1, 3.2, 3.5, 3.6, 3.0, 3.4, 3.5, 2.3, 3.2, 3.5, 3.8], 'petal_length': [1.4, 1.4, 1.5, 1.4, 1.5, 1.5, 1.6, 1.4, 1.1, 1.2, 1.5, 1.3, 1.4, 1.7, 1.5, 1.7, 1.5, 1.0, 1.7, 1.9, 1.6, 1.6, 1.5, 1.4, 1.6, 1.6, 1.5, 1.5, 1.4, 1.5, 1.2, 1.3, 1.4, 1.3, 1.5, 1.3, 1.3, 1.3, 1.6, 1.9], 'petal_width': [0.2, 0.3, 0.2, 0.2, 0.1, 0.2, 0.2, 0.1, 0.1, 0.2, 0.4, 0.4, 0.3, 0.3, 0.3, 0.2, 0.4, 0.2, 0.5, 0.2, 0.2, 0.4, 0.2, 0.2, 0.2, 0.2, 0.4, 0.1, 0.2, 0.2, 0.2, 0.2, 0.1, 0.2, 0.2, 0.3, 0.3, 0.2, 0.6, 0.4], 'species': ['setosa', 'setosa', 'setosa', 'setosa', 'setosa', 'setosa', 'setosa', 'setosa', 'setosa', 'setosa', 'setosa', 'setosa', 'setosa', 'setosa', 'setosa', 'setosa', 'setosa', 'setosa', 'setosa', 'setosa', 'setosa', 'setosa', 'setosa', 'setosa', 'setosa', 'setosa', 'setosa', 'setosa', 'setosa', 'setosa', 'setosa', 'setosa', 'setosa', 'setosa', 'setosa', 'setosa', 'setosa', 'setosa', 'setosa', 'setosa']}\n",
      "-----------------------------------------------------------\n",
      "Selecionando das linhas 10 a 50 da coluna sepal_length\n",
      "[5.7, 5.4, 5.1, 5.7, 5.1, 5.4, 5.1, 4.6, 5.1, 4.8, 5.0, 5.0, 5.2, 5.2, 4.7, 4.8, 5.4, 5.2, 5.5, 4.9, 5.0, 5.5, 4.9, 4.4, 5.1, 5.0, 4.5, 4.4, 5.0, 5.1, 4.8, 5.1, 4.6, 5.3, 5.0, 7.0, 6.4, 6.9, 5.5, 6.5]\n"
     ]
    }
   ],
   "source": [
    "print('Selecionando a coluna species')\n",
    "print('')\n",
    "print(df.GetColuna('species'))\n",
    "\n",
    "print('-----------------------------------------------------------')\n",
    "print('Selecionando linhas 0 a 40')\n",
    "print('')\n",
    "print(df.GetLinha(list(range(0,40))))\n",
    "\n",
    "print('-----------------------------------------------------------')\n",
    "print('Selecionando das linhas 10 a 50 da coluna sepal_length')\n",
    "print(df.GetLoc(list(range(10,50)),'sepal_length'))\n"
   ]
  },
  {
   "cell_type": "markdown",
   "metadata": {},
   "source": [
    "## Realizando Queries\n",
    "\n",
    "O método \".Query()\" retorna as linhas contendo a informação buscada. Com essas linhas em mãos, basta\n",
    "chamar uma função de slicing para obter os com os filtros desejados."
   ]
  },
  {
   "cell_type": "code",
   "execution_count": 107,
   "metadata": {},
   "outputs": [
    {
     "data": {
      "text/plain": [
       "{'sepal_length': [6.3, 7.2, 6.7],\n",
       " 'sepal_width': [3.3, 3.6, 3.3],\n",
       " 'petal_length': [6.0, 6.1, 5.7],\n",
       " 'petal_width': [2.5, 2.5, 2.5],\n",
       " 'species': ['virginica', 'virginica', 'virginica']}"
      ]
     },
     "execution_count": 107,
     "metadata": {},
     "output_type": "execute_result"
    }
   ],
   "source": [
    "col = 'petal_width'\n",
    "valor = 2.5\n",
    "\n",
    "# Queries possíveis. Note que abaixo só mostramos o resultado da última query\n",
    "df.GetLinha(df.Query(col,'<',valor))\n",
    "df.GetLinha(df.Query(col,'<=',valor))\n",
    "df.GetLinha(df.Query(col,'>',valor))\n",
    "df.GetLinha(df.Query(col,'>=',valor))\n",
    "df.GetLinha(df.Query(col,'==',valor))"
   ]
  },
  {
   "cell_type": "markdown",
   "metadata": {},
   "source": [
    "Uma maneira de agilizar essa queries é através da indexação das colunas. Chamando a função de *IndexarColuna()*\n",
    "o dataframe cria uma estrutura de árvore binária em C++ que armazena os dados da coluna. Essa árvore é atualizada\n",
    "automaticamente caso seja inserido um novo dado ou a coluna seja deletada. Uma vez indexada a coluna,\n",
    "a *.Query()* identifica que a coluna sendo buscada é um índice e assim chama a função adequada em C++ para fazer\n",
    "a busca utilizando a árvore binária.\n",
    "\n",
    "Uma maneira especial de realizar queries que é útil em caso de coordenadas é a filtrar os dados presentes\n",
    "em uma região. Para isso, temos a função *QueryRect()* que recebe as dimensões de um retângulo e realiza\n",
    "a query utilizando C++ para agilizar o processo. Note que essa função exige que os dados sejam indexados\n",
    "e que a coluna seja do tipo double."
   ]
  },
  {
   "cell_type": "code",
   "execution_count": 108,
   "metadata": {},
   "outputs": [
    {
     "data": {
      "text/plain": [
       "{'sepal_length': [6.5,\n",
       "  6.6,\n",
       "  6.1,\n",
       "  6.1,\n",
       "  6.3,\n",
       "  6.1,\n",
       "  6.4,\n",
       "  6.6,\n",
       "  6.8,\n",
       "  6.7,\n",
       "  6.0,\n",
       "  6.0,\n",
       "  6.1,\n",
       "  6.2,\n",
       "  6.3,\n",
       "  6.5,\n",
       "  6.7,\n",
       "  6.4,\n",
       "  6.8,\n",
       "  6.5,\n",
       "  6.3,\n",
       "  6.2,\n",
       "  6.1,\n",
       "  6.4,\n",
       "  6.4,\n",
       "  6.3,\n",
       "  6.1,\n",
       "  6.0,\n",
       "  6.7,\n",
       "  6.3,\n",
       "  6.5],\n",
       " 'sepal_width': [2.8,\n",
       "  2.9,\n",
       "  2.9,\n",
       "  2.8,\n",
       "  2.5,\n",
       "  2.8,\n",
       "  2.9,\n",
       "  3.0,\n",
       "  2.8,\n",
       "  3.0,\n",
       "  2.9,\n",
       "  2.7,\n",
       "  3.0,\n",
       "  2.9,\n",
       "  2.9,\n",
       "  3.0,\n",
       "  2.5,\n",
       "  2.7,\n",
       "  3.0,\n",
       "  3.0,\n",
       "  2.7,\n",
       "  2.8,\n",
       "  3.0,\n",
       "  2.8,\n",
       "  2.8,\n",
       "  2.8,\n",
       "  2.6,\n",
       "  3.0,\n",
       "  3.0,\n",
       "  2.5,\n",
       "  3.0],\n",
       " 'petal_length': [4.6,\n",
       "  4.6,\n",
       "  4.7,\n",
       "  4.0,\n",
       "  4.9,\n",
       "  4.7,\n",
       "  4.3,\n",
       "  4.4,\n",
       "  4.8,\n",
       "  5.0,\n",
       "  4.5,\n",
       "  5.1,\n",
       "  4.6,\n",
       "  4.3,\n",
       "  5.6,\n",
       "  5.8,\n",
       "  5.8,\n",
       "  5.3,\n",
       "  5.5,\n",
       "  5.5,\n",
       "  4.9,\n",
       "  4.8,\n",
       "  4.9,\n",
       "  5.6,\n",
       "  5.6,\n",
       "  5.1,\n",
       "  5.6,\n",
       "  4.8,\n",
       "  5.2,\n",
       "  5.0,\n",
       "  5.2],\n",
       " 'petal_width': [1.5,\n",
       "  1.3,\n",
       "  1.4,\n",
       "  1.3,\n",
       "  1.5,\n",
       "  1.2,\n",
       "  1.3,\n",
       "  1.4,\n",
       "  1.4,\n",
       "  1.7,\n",
       "  1.5,\n",
       "  1.6,\n",
       "  1.4,\n",
       "  1.3,\n",
       "  1.8,\n",
       "  2.2,\n",
       "  1.8,\n",
       "  1.9,\n",
       "  2.1,\n",
       "  1.8,\n",
       "  1.8,\n",
       "  1.8,\n",
       "  1.8,\n",
       "  2.1,\n",
       "  2.2,\n",
       "  1.5,\n",
       "  1.4,\n",
       "  1.8,\n",
       "  2.3,\n",
       "  1.9,\n",
       "  2.0],\n",
       " 'species': ['versicolor',\n",
       "  'versicolor',\n",
       "  'versicolor',\n",
       "  'versicolor',\n",
       "  'versicolor',\n",
       "  'versicolor',\n",
       "  'versicolor',\n",
       "  'versicolor',\n",
       "  'versicolor',\n",
       "  'versicolor',\n",
       "  'versicolor',\n",
       "  'versicolor',\n",
       "  'versicolor',\n",
       "  'versicolor',\n",
       "  'virginica',\n",
       "  'virginica',\n",
       "  'virginica',\n",
       "  'virginica',\n",
       "  'virginica',\n",
       "  'virginica',\n",
       "  'virginica',\n",
       "  'virginica',\n",
       "  'virginica',\n",
       "  'virginica',\n",
       "  'virginica',\n",
       "  'virginica',\n",
       "  'virginica',\n",
       "  'virginica',\n",
       "  'virginica',\n",
       "  'virginica',\n",
       "  'virginica']}"
      ]
     },
     "execution_count": 108,
     "metadata": {},
     "output_type": "execute_result"
    }
   ],
   "source": [
    "df.IndexarColuna('species')\n",
    "df.IndexarColuna('sepal_length')\n",
    "df.IndexarColuna('sepal_width')\n",
    "df.GetLinha(df.Query('species','==','setosa'))\n",
    "\n",
    "rect = [6.0,2.5,7,3] # xmin, ymin, xman, ymax\n",
    "df.GetLinha(df.QueryRect(rect, 'sepal_length', 'sepal_width'))"
   ]
  },
  {
   "cell_type": "markdown",
   "metadata": {},
   "source": [
    "## Inserindo e removendo dados do Dataframe\n",
    "Vamos mostrar como inserir e remover linhas, colunas e índices. Note que a remoção do índice é na verdade\n",
    "uma \"desindexação\", de forma que a árvore binária é desfeita e o dataframe volta a funcionar como se a coluna\n",
    "nunca tivesse sido indexada."
   ]
  },
  {
   "cell_type": "code",
   "execution_count": 109,
   "metadata": {},
   "outputs": [
    {
     "name": "stdout",
     "output_type": "stream",
     "text": [
      "  sepal_length    sepal_width    petal_length    petal_width  species      coluna_teste\n",
      "--------------  -------------  --------------  -------------  ---------  --------------\n",
      "           5.1            3.5             1.4            0.2  setosa                  1\n"
     ]
    }
   ],
   "source": [
    "df.InserirColuna([1] * df.shape[0],'coluna_teste')\n",
    "df.Show(df.GetLinha([0]))"
   ]
  },
  {
   "cell_type": "code",
   "execution_count": 110,
   "metadata": {},
   "outputs": [
    {
     "name": "stdout",
     "output_type": "stream",
     "text": [
      "  sepal_length    sepal_width    petal_length    petal_width  species\n",
      "--------------  -------------  --------------  -------------  ---------\n",
      "           5.1            3.5             1.4            0.2  setosa\n"
     ]
    }
   ],
   "source": [
    "df.RemoverColuna('coluna_teste')\n",
    "df.Show(df.GetLinha([0]))"
   ]
  },
  {
   "cell_type": "markdown",
   "metadata": {},
   "source": [
    "Veja que o formato de inserção de linha exige que se crie um dicionário, da mesma forma que foi feito\n",
    "quando que se criou o Dataframe. Além disso, todo dado de entrada deve ser uma lista, como fica claro abaixo."
   ]
  },
  {
   "cell_type": "code",
   "execution_count": 111,
   "metadata": {},
   "outputs": [
    {
     "name": "stdout",
     "output_type": "stream",
     "text": [
      "  sepal_length    sepal_width    petal_length    petal_width  species\n",
      "--------------  -------------  --------------  -------------  ---------\n",
      "           100            200              -2            -10  teste\n"
     ]
    }
   ],
   "source": [
    "linha_nova = {'sepal_length':[100],'sepal_width':[200], 'petal_length':[-2],\n",
    "              'petal_width':[-10], 'species':['teste']}\n",
    "df.InserirLinha(linha_nova)\n",
    "df.Show(df.GetLinha([df.shape[0]-1]))"
   ]
  },
  {
   "cell_type": "code",
   "execution_count": 112,
   "metadata": {},
   "outputs": [
    {
     "data": {
      "text/plain": [
       "[151, 8]"
      ]
     },
     "execution_count": 112,
     "metadata": {},
     "output_type": "execute_result"
    }
   ],
   "source": [
    "df.shape"
   ]
  },
  {
   "cell_type": "code",
   "execution_count": 113,
   "metadata": {
    "scrolled": true
   },
   "outputs": [
    {
     "name": "stdout",
     "output_type": "stream",
     "text": [
      "  sepal_length    sepal_width    petal_length    petal_width  species\n",
      "--------------  -------------  --------------  -------------  ---------\n",
      "           5.9              3             5.1            1.8  virginica\n"
     ]
    }
   ],
   "source": [
    "df.RemoverLinha([df.shape[0]-1])\n",
    "df.Show(df.GetLinha([df.shape[0]-1]))"
   ]
  },
  {
   "cell_type": "markdown",
   "metadata": {},
   "source": [
    "Por fim, vamos remover um indice. "
   ]
  },
  {
   "cell_type": "code",
   "execution_count": 114,
   "metadata": {},
   "outputs": [
    {
     "data": {
      "text/plain": [
       "['sepal_length', 'sepal_width']"
      ]
     },
     "execution_count": 114,
     "metadata": {},
     "output_type": "execute_result"
    }
   ],
   "source": [
    "print(df.indices)\n",
    "df.RemoverIndice('species')\n",
    "print(df.indices)"
   ]
  },
  {
   "cell_type": "markdown",
   "metadata": {},
   "source": [
    "## Plotando os dados\n",
    "\n",
    "Por fim, vamos mostrar como utilizar as funções de plotagem. Os plots são construídos utilizando a biblioteca\n",
    "Matplotlib do Python, e assim aceitam os mesmos argumentos comumente aceitos pelo módulo *pyplot*, além de também\n",
    "poderem serem manipuladas da mesma forma para inserir legendas, alterar tamanhos da imagem, etc."
   ]
  },
  {
   "cell_type": "markdown",
   "metadata": {},
   "source": [
    "* Scatter Plot e Line Plots "
   ]
  },
  {
   "cell_type": "code",
   "execution_count": 128,
   "metadata": {
    "scrolled": false
   },
   "outputs": [
    {
     "data": {
      "text/plain": [
       "<matplotlib.legend.Legend at 0x7faf0b59e160>"
      ]
     },
     "execution_count": 128,
     "metadata": {},
     "output_type": "execute_result"
    },
    {
     "data": {
      "image/png": "[encoded data removed]",
      "text/plain": [
       "<Figure size 1080x360 with 1 Axes>"
      ]
     },
     "metadata": {
      "needs_background": "light"
     },
     "output_type": "display_data"
    }
   ],
   "source": [
    "plt.figure(figsize=(15,5))\n",
    "\n",
    "# df.Plot('sepal_length','sepal_width','-') # Essa linha de código plota uma linha invés do marker\n",
    "df.Plot('sepal_length','sepal_width','o',color='k',label='Exemplo')\n",
    "plt.legend()"
   ]
  },
  {
   "cell_type": "markdown",
   "metadata": {},
   "source": [
    "Abaixo utilizamos a função de *QueryRect()* para plotar somente parcelas dos dados."
   ]
  },
  {
   "cell_type": "code",
   "execution_count": 119,
   "metadata": {},
   "outputs": [
    {
     "data": {
      "text/plain": [
       "[<matplotlib.lines.Line2D at 0x7faf0ca3f860>]"
      ]
     },
     "execution_count": 119,
     "metadata": {},
     "output_type": "execute_result"
    },
    {
     "data": {
      "image/png": "[encoded data removed]",
      "text/plain": [
       "<Figure size 432x288 with 1 Axes>"
      ]
     },
     "metadata": {
      "needs_background": "light"
     },
     "output_type": "display_data"
    }
   ],
   "source": [
    "rect1 = [6.0,2.5,7,3]\n",
    "rect2 = [4,3.5,6,5]\n",
    "filtro1 = df.GetLinha(df.QueryRect(rect1, 'sepal_length', 'sepal_width'))\n",
    "filtro2 = df.GetLinha(df.QueryRect(rect2, 'sepal_length', 'sepal_width'))\n",
    "\n",
    "df.Plot('sepal_length','sepal_width','o')\n",
    "plt.plot(filtro1['sepal_length'],filtro1['sepal_width'],'o')\n",
    "plt.plot(filtro2['sepal_length'],filtro2['sepal_width'],'o')"
   ]
  },
  {
   "cell_type": "markdown",
   "metadata": {},
   "source": [
    "* Histogramas 1D e 2D"
   ]
  },
  {
   "cell_type": "code",
   "execution_count": 120,
   "metadata": {},
   "outputs": [
    {
     "data": {
      "image/png": "[encoded data removed]",
      "text/plain": [
       "<Figure size 432x288 with 1 Axes>"
      ]
     },
     "metadata": {
      "needs_background": "light"
     },
     "output_type": "display_data"
    }
   ],
   "source": [
    "df.Hist('sepal_width')"
   ]
  },
  {
   "cell_type": "code",
   "execution_count": 121,
   "metadata": {},
   "outputs": [
    {
     "data": {
      "image/png": "[encoded data removed]",
      "text/plain": [
       "<Figure size 432x288 with 1 Axes>"
      ]
     },
     "metadata": {
      "needs_background": "light"
     },
     "output_type": "display_data"
    }
   ],
   "source": [
    "df.Hist2D('sepal_length','sepal_width')"
   ]
  },
  {
   "cell_type": "markdown",
   "metadata": {},
   "source": [
    "* Gráficos de Barra - Permitem os tipos \"soma\", \"contador\" e \"média\""
   ]
  },
  {
   "cell_type": "code",
   "execution_count": 122,
   "metadata": {},
   "outputs": [
    {
     "data": {
      "image/png": "[encoded data removed]",
      "text/plain": [
       "<Figure size 432x288 with 1 Axes>"
      ]
     },
     "metadata": {
      "needs_background": "light"
     },
     "output_type": "display_data"
    }
   ],
   "source": [
    "df.BarPlot('sepal_length','species',tipo='soma')"
   ]
  },
  {
   "cell_type": "code",
   "execution_count": 123,
   "metadata": {},
   "outputs": [
    {
     "data": {
      "image/png": "[encoded data removed]",
      "text/plain": [
       "<Figure size 432x288 with 1 Axes>"
      ]
     },
     "metadata": {
      "needs_background": "light"
     },
     "output_type": "display_data"
    }
   ],
   "source": [
    "df.BarPlot('sepal_length','species',tipo='media')"
   ]
  },
  {
   "cell_type": "code",
   "execution_count": 124,
   "metadata": {},
   "outputs": [
    {
     "data": {
      "image/png": "[encoded data removed]",
      "text/plain": [
       "<Figure size 432x288 with 1 Axes>"
      ]
     },
     "metadata": {
      "needs_background": "light"
     },
     "output_type": "display_data"
    }
   ],
   "source": [
    "df.BarPlot('sepal_length','species',tipo='contador')"
   ]
  },
  {
   "cell_type": "markdown",
   "metadata": {},
   "source": [
    "# Fim. "
   ]
  }
 ],
 "metadata": {
  "kernelspec": {
   "display_name": "Python3(datascience)",
   "language": "python",
   "name": "datascience"
  },
  "language_info": {
   "codemirror_mode": {
    "name": "ipython",
    "version": 3
   },
   "file_extension": ".py",
   "mimetype": "text/x-python",
   "name": "python",
   "nbconvert_exporter": "python",
   "pygments_lexer": "ipython3",
   "version": "3.6.8"
  }
 },
 "nbformat": 4,
 "nbformat_minor": 2
}
