{
 "cells": [
  {
   "cell_type": "code",
   "execution_count": 81,
   "metadata": {},
   "outputs": [],
   "source": [
    "from DataFrame import *\n",
    "\n",
    "class DataFrameMc():\n",
    "    \"\"\"docstring for DataFrameMc\"\"\"\n",
    "    def __init__(self,dados=None):\n",
    "        self.df      = DataFrame()\n",
    "        self.colunas = {}\n",
    "        self.shape   = (0,0) # Quantidade de linhas x colunas\n",
    "\n",
    "        if dados != None:\n",
    "            for coluna in dados:\n",
    "                self.InserirColuna(dados[coluna],coluna)\n",
    "\n",
    "\n",
    "    def InserirColuna(self,valores,nome_coluna):\n",
    "        # Infere o tipo do dado. Caso encontre multiplos,\n",
    "        # transforma em string\n",
    "\n",
    "        if all(isinstance(x, int) for x in valores):\n",
    "            if self.shape == [0,0]:\n",
    "                self.df.InserirColunaInt(valores,nome_coluna)\n",
    "                self.colunas[nome_coluna] ='int'\n",
    "                self.shape[0] = len(valores)\n",
    "                self.shape[1] += 1\n",
    "            elif self.shape[0] != len(valores):\n",
    "                raise Exception(\"Coluna com tamanhos diferentes.\")\n",
    "            else:\n",
    "                self.df.InserirColunaInt(valores,nome_coluna)\n",
    "                self.colunas[nome_coluna] ='int'\n",
    "                self.shape[1] += 1\n",
    "\n",
    "        elif all(isinstance(x, (float,int)) for x in valores):\n",
    "            if self.shape == [0,0]:\n",
    "                self.df.InserirColunaDouble(valores,nome_coluna)\n",
    "                self.colunas[nome_coluna] ='double'\n",
    "                self.shape[0] = len(valores)\n",
    "                self.shape[1] += 1\n",
    "            elif self.shape[0] != len(valores):\n",
    "                raise Exception(\"Coluna com tamanhos diferentes.\")\n",
    "            else:\n",
    "                self.df.InserirColunaDouble(valores,nome_coluna)\n",
    "                self.colunas[nome_coluna] ='double'\n",
    "                self.shape[1] += 1\n",
    "\n",
    "        else:\n",
    "            if not all(isinstance(x, str) for x in valores):\n",
    "                valores_string = [str(i) for i in list(valores)]\n",
    "            if self.shape == [0,0]:\n",
    "                self.df.InserirColunaString(valores,nome_coluna)\n",
    "                self.colunas[nome_coluna] ='string'\n",
    "                self.shape[0] = len(valores)\n",
    "                self.shape[1] += 1\n",
    "            elif self.shape[0] != len(valores):\n",
    "                raise Exception(\"Coluna com tamanhos diferentes.\")\n",
    "            else:\n",
    "                self.df.InserirColunaString(valores,nome_coluna)\n",
    "                self.colunas[nome_coluna] ='string'\n",
    "                self.shape[1] += 1\n",
    "\n",
    "    def GetColuna(self,nome_coluna):\n",
    "        if self.colunas[nome_coluna] == 'int':\n",
    "            return self.df.GetColunaInt(nome_coluna)\n",
    "        elif self.colunas[nome_coluna] == 'double':\n",
    "            return self.df.GetColunaDouble(nome_coluna)\n",
    "        else:\n",
    "            return self.df.GetColunaString(nome_coluna)\n",
    "\n",
    "\n",
    "\n",
    "\n",
    "    # def GetLinha(linha)\n",
    "    # def GetColuna(coluna)\n",
    "    # def GetLoc(linha,coluna)\n",
    "    # def Query()\n"
   ]
  },
  {
   "cell_type": "code",
   "execution_count": 83,
   "metadata": {},
   "outputs": [
    {
     "ename": "Exception",
     "evalue": "Coluna com tamanhos diferentes.",
     "output_type": "error",
     "traceback": [
      "\u001b[0;31m---------------------------------------------------------------------------\u001b[0m",
      "\u001b[0;31mException\u001b[0m                                 Traceback (most recent call last)",
      "\u001b[0;32m<ipython-input-83-bdb5d3898f47>\u001b[0m in \u001b[0;36m<module>\u001b[0;34m\u001b[0m\n\u001b[1;32m      1\u001b[0m \u001b[0mdata\u001b[0m \u001b[0;34m=\u001b[0m \u001b[0;34m{\u001b[0m\u001b[0;34m'col_1'\u001b[0m\u001b[0;34m:\u001b[0m \u001b[0;34m[\u001b[0m\u001b[0;36m300000000\u001b[0m\u001b[0;34m,\u001b[0m \u001b[0;36m2\u001b[0m\u001b[0;34m,\u001b[0m \u001b[0;36m1\u001b[0m\u001b[0;34m,\u001b[0m \u001b[0;36m0\u001b[0m\u001b[0;34m]\u001b[0m\u001b[0;34m,\u001b[0m \u001b[0;34m'col_2'\u001b[0m\u001b[0;34m:\u001b[0m \u001b[0;34m[\u001b[0m\u001b[0;34m'a'\u001b[0m\u001b[0;34m,\u001b[0m \u001b[0;34m'b'\u001b[0m\u001b[0;34m,\u001b[0m \u001b[0;34m'c'\u001b[0m\u001b[0;34m,\u001b[0m \u001b[0;34m'd'\u001b[0m\u001b[0;34m]\u001b[0m\u001b[0;34m}\u001b[0m\u001b[0;34m\u001b[0m\u001b[0;34m\u001b[0m\u001b[0m\n\u001b[1;32m      2\u001b[0m \u001b[0mdata\u001b[0m \u001b[0;34m=\u001b[0m \u001b[0;34m{\u001b[0m\u001b[0;34m'col_1'\u001b[0m\u001b[0;34m:\u001b[0m \u001b[0;34m[\u001b[0m\u001b[0;36m3\u001b[0m\u001b[0;34m,\u001b[0m \u001b[0;36m2\u001b[0m\u001b[0;34m,\u001b[0m \u001b[0;36m1\u001b[0m\u001b[0;34m,\u001b[0m \u001b[0;36m0\u001b[0m\u001b[0;34m]\u001b[0m\u001b[0;34m}\u001b[0m\u001b[0;34m\u001b[0m\u001b[0;34m\u001b[0m\u001b[0m\n\u001b[0;32m----> 3\u001b[0;31m \u001b[0mdf\u001b[0m \u001b[0;34m=\u001b[0m \u001b[0mDataFrameMc\u001b[0m\u001b[0;34m(\u001b[0m\u001b[0mdata\u001b[0m\u001b[0;34m)\u001b[0m\u001b[0;34m\u001b[0m\u001b[0;34m\u001b[0m\u001b[0m\n\u001b[0m",
      "\u001b[0;32m<ipython-input-81-73c455170fa8>\u001b[0m in \u001b[0;36m__init__\u001b[0;34m(self, dados)\u001b[0m\n\u001b[1;32m     10\u001b[0m         \u001b[0;32mif\u001b[0m \u001b[0mdados\u001b[0m \u001b[0;34m!=\u001b[0m \u001b[0;32mNone\u001b[0m\u001b[0;34m:\u001b[0m\u001b[0;34m\u001b[0m\u001b[0;34m\u001b[0m\u001b[0m\n\u001b[1;32m     11\u001b[0m             \u001b[0;32mfor\u001b[0m \u001b[0mcoluna\u001b[0m \u001b[0;32min\u001b[0m \u001b[0mdados\u001b[0m\u001b[0;34m:\u001b[0m\u001b[0;34m\u001b[0m\u001b[0;34m\u001b[0m\u001b[0m\n\u001b[0;32m---> 12\u001b[0;31m                 \u001b[0mself\u001b[0m\u001b[0;34m.\u001b[0m\u001b[0mInserirColuna\u001b[0m\u001b[0;34m(\u001b[0m\u001b[0mdados\u001b[0m\u001b[0;34m[\u001b[0m\u001b[0mcoluna\u001b[0m\u001b[0;34m]\u001b[0m\u001b[0;34m,\u001b[0m\u001b[0mcoluna\u001b[0m\u001b[0;34m)\u001b[0m\u001b[0;34m\u001b[0m\u001b[0;34m\u001b[0m\u001b[0m\n\u001b[0m\u001b[1;32m     13\u001b[0m \u001b[0;34m\u001b[0m\u001b[0m\n\u001b[1;32m     14\u001b[0m \u001b[0;34m\u001b[0m\u001b[0m\n",
      "\u001b[0;32m<ipython-input-81-73c455170fa8>\u001b[0m in \u001b[0;36mInserirColuna\u001b[0;34m(self, valores, nome_coluna)\u001b[0m\n\u001b[1;32m     24\u001b[0m                 \u001b[0mself\u001b[0m\u001b[0;34m.\u001b[0m\u001b[0mshape\u001b[0m\u001b[0;34m[\u001b[0m\u001b[0;36m1\u001b[0m\u001b[0;34m]\u001b[0m \u001b[0;34m+=\u001b[0m \u001b[0;36m1\u001b[0m\u001b[0;34m\u001b[0m\u001b[0;34m\u001b[0m\u001b[0m\n\u001b[1;32m     25\u001b[0m             \u001b[0;32melif\u001b[0m \u001b[0mself\u001b[0m\u001b[0;34m.\u001b[0m\u001b[0mshape\u001b[0m\u001b[0;34m[\u001b[0m\u001b[0;36m0\u001b[0m\u001b[0;34m]\u001b[0m \u001b[0;34m!=\u001b[0m \u001b[0mlen\u001b[0m\u001b[0;34m(\u001b[0m\u001b[0mvalores\u001b[0m\u001b[0;34m)\u001b[0m\u001b[0;34m:\u001b[0m\u001b[0;34m\u001b[0m\u001b[0;34m\u001b[0m\u001b[0m\n\u001b[0;32m---> 26\u001b[0;31m                 \u001b[0;32mraise\u001b[0m \u001b[0mException\u001b[0m\u001b[0;34m(\u001b[0m\u001b[0;34m\"Coluna com tamanhos diferentes.\"\u001b[0m\u001b[0;34m)\u001b[0m\u001b[0;34m\u001b[0m\u001b[0;34m\u001b[0m\u001b[0m\n\u001b[0m\u001b[1;32m     27\u001b[0m             \u001b[0;32melse\u001b[0m\u001b[0;34m:\u001b[0m\u001b[0;34m\u001b[0m\u001b[0;34m\u001b[0m\u001b[0m\n\u001b[1;32m     28\u001b[0m                 \u001b[0mself\u001b[0m\u001b[0;34m.\u001b[0m\u001b[0mdf\u001b[0m\u001b[0;34m.\u001b[0m\u001b[0mInserirColunaInt\u001b[0m\u001b[0;34m(\u001b[0m\u001b[0mvalores\u001b[0m\u001b[0;34m,\u001b[0m\u001b[0mnome_coluna\u001b[0m\u001b[0;34m)\u001b[0m\u001b[0;34m\u001b[0m\u001b[0;34m\u001b[0m\u001b[0m\n",
      "\u001b[0;31mException\u001b[0m: Coluna com tamanhos diferentes."
     ]
    }
   ],
   "source": [
    "data = {'col_1': [300000000, 2, 1, 0], 'col_2': ['a', 'b', 'c', 'd']}\n",
    "data = {'col_1': [3, 2, 1, 0]}\n",
    "df = DataFrameMc(data)"
   ]
  },
  {
   "cell_type": "code",
   "execution_count": 77,
   "metadata": {},
   "outputs": [
    {
     "data": {
      "text/plain": [
       "['davi', 'b', 'z']"
      ]
     },
     "execution_count": 77,
     "metadata": {},
     "output_type": "execute_result"
    }
   ],
   "source": [
    "df.GetColuna('col_1')\n",
    "\n",
    "df.InserirColuna(['davi','b','z'],'col_3')\n",
    "df.GetColuna('col_3')"
   ]
  },
  {
   "cell_type": "code",
   "execution_count": 78,
   "metadata": {},
   "outputs": [
    {
     "data": {
      "text/plain": [
       "[4, 1]"
      ]
     },
     "execution_count": 78,
     "metadata": {},
     "output_type": "execute_result"
    }
   ],
   "source": [
    "df.shape"
   ]
  },
  {
   "cell_type": "code",
   "execution_count": 20,
   "metadata": {},
   "outputs": [
    {
     "data": {
      "text/plain": [
       "True"
      ]
     },
     "execution_count": 20,
     "metadata": {},
     "output_type": "execute_result"
    }
   ],
   "source": [
    "len(set(data.keys()))== len(data.keys())"
   ]
  },
  {
   "cell_type": "code",
   "execution_count": 24,
   "metadata": {},
   "outputs": [],
   "source": [
    "colunas = {'col':'int', 'col2':'double'}"
   ]
  },
  {
   "cell_type": "code",
   "execution_count": null,
   "metadata": {},
   "outputs": [],
   "source": [
    "for i in colunas:\n",
    "    "
   ]
  }
 ],
 "metadata": {
  "kernelspec": {
   "display_name": "Python 3",
   "language": "python",
   "name": "python3"
  },
  "language_info": {
   "codemirror_mode": {
    "name": "ipython",
    "version": 3
   },
   "file_extension": ".py",
   "mimetype": "text/x-python",
   "name": "python",
   "nbconvert_exporter": "python",
   "pygments_lexer": "ipython3",
   "version": "3.6.8"
  }
 },
 "nbformat": 4,
 "nbformat_minor": 2
}
