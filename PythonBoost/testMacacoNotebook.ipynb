{
 "cells": [
  {
   "cell_type": "code",
   "execution_count": 112,
   "metadata": {},
   "outputs": [
    {
     "name": "stdout",
     "output_type": "stream",
     "text": [
      "The autoreload extension is already loaded. To reload it, use:\n",
      "  %reload_ext autoreload\n"
     ]
    }
   ],
   "source": [
    "%load_ext autoreload\n",
    "%reload_ext autoreload\n",
    "from DataFrame import *\n",
    "\n",
    "class DataFrameMc():\n",
    "    \"\"\"docstring for DataFrameMc\"\"\"\n",
    "    def __init__(self,dados=None):\n",
    "        self.df      = DataFrame()\n",
    "        self.colunas = {}\n",
    "        self.shape   = [0,0] # Quantidade de linhas x colunas\n",
    "\n",
    "        if dados != None:\n",
    "            for coluna in dados:\n",
    "                self.InserirColuna(dados[coluna],coluna)\n",
    "\n",
    "\n",
    "    def InserirColuna(self,valores,nome_coluna):\n",
    "        # Infere o tipo do dado. Caso encontre multiplos,\n",
    "        # transforma em string\n",
    "\n",
    "        if all(isinstance(x, int) for x in valores):\n",
    "            if self.shape == [0,0]:\n",
    "                self.df.InserirColunaInt(valores,nome_coluna)\n",
    "                self.colunas[nome_coluna] ='int'\n",
    "                self.shape[0] = len(valores)\n",
    "                self.shape[1] += 1\n",
    "            elif self.shape[0] != len(valores):\n",
    "                raise Exception(\"Coluna com tamanhos diferentes.\")\n",
    "            else:\n",
    "                self.df.InserirColunaInt(valores,nome_coluna)\n",
    "                self.colunas[nome_coluna] ='int'\n",
    "                self.shape[1] += 1\n",
    "\n",
    "        elif all(isinstance(x, (float,int)) for x in valores):\n",
    "            if self.shape == [0,0]:\n",
    "                self.df.InserirColunaDouble(valores,nome_coluna)\n",
    "                self.colunas[nome_coluna] ='double'\n",
    "                self.shape[0] = len(valores)\n",
    "                self.shape[1] += 1\n",
    "            elif self.shape[0] != len(valores):\n",
    "                raise Exception(\"Coluna com tamanhos diferentes.\")\n",
    "            else:\n",
    "                self.df.InserirColunaDouble(valores,nome_coluna)\n",
    "                self.colunas[nome_coluna] ='double'\n",
    "                self.shape[1] += 1\n",
    "\n",
    "        else:\n",
    "            if not all(isinstance(x, str) for x in valores):\n",
    "                valores_string = [str(i) for i in list(valores)]\n",
    "            if self.shape == [0,0]:\n",
    "                self.df.InserirColunaString(valores,nome_coluna)\n",
    "                self.colunas[nome_coluna] ='string'\n",
    "                self.shape[0] = len(valores)\n",
    "                self.shape[1] += 1\n",
    "            elif self.shape[0] != len(valores):\n",
    "                raise Exception(\"Coluna com tamanhos diferentes.\")\n",
    "            else:\n",
    "                self.df.InserirColunaString(valores,nome_coluna)\n",
    "                self.colunas[nome_coluna] ='string'\n",
    "                self.shape[1] += 1\n",
    "\n",
    "    def GetColuna(self,nome_coluna):\n",
    "        if self.colunas[nome_coluna] == 'int':\n",
    "            return self.df.GetColunaInt(nome_coluna)\n",
    "        elif self.colunas[nome_coluna] == 'double':\n",
    "            return self.df.GetColunaDouble(nome_coluna)\n",
    "        elif self.colunas[nome_coluna] == 'string':\n",
    "            return self.df.GetColunaString(nome_coluna)\n",
    "\n",
    "    def RemoverColuna(self,nome_coluna):\n",
    "        if self.colunas[nome_coluna] == 'int':\n",
    "            self.df.RemoverColunaInt([],nome_coluna)\n",
    "        elif self.colunas[nome_coluna] == 'double':\n",
    "            self.df.RemoverColunaDouble([],nome_coluna)\n",
    "        elif self.colunas[nome_coluna] == 'string':\n",
    "            self.df.RemoverColunaString([],nome_coluna)\n"
   ]
  },
  {
   "cell_type": "code",
   "execution_count": 114,
   "metadata": {},
   "outputs": [],
   "source": [
    "data = {'col_1': [3, 2, 1, 0], 'col_2': ['a', 'b', 'c', 'd']}\n",
    "df = DataFrameMc(data)"
   ]
  },
  {
   "cell_type": "code",
   "execution_count": 115,
   "metadata": {},
   "outputs": [
    {
     "data": {
      "text/plain": [
       "[2.3, 3.14, 1.0, 2.0]"
      ]
     },
     "execution_count": 115,
     "metadata": {},
     "output_type": "execute_result"
    }
   ],
   "source": [
    "\n",
    "df.InserirColuna(['davi','b','z','z'],'col_3')\n",
    "df.InserirColuna([2.3,3.14,1,2.0],'col_2')\n",
    "df.GetColuna('col_1')\n",
    "df.GetColuna('col_2')"
   ]
  },
  {
   "cell_type": "code",
   "execution_count": 116,
   "metadata": {},
   "outputs": [
    {
     "data": {
      "text/plain": [
       "[4, 4]"
      ]
     },
     "execution_count": 116,
     "metadata": {},
     "output_type": "execute_result"
    }
   ],
   "source": [
    "df.shape"
   ]
  },
  {
   "cell_type": "code",
   "execution_count": 132,
   "metadata": {},
   "outputs": [],
   "source": [
    "def valor(v):\n",
    "    l= []\n",
    "    if type(v)== int:\n",
    "        l.append(v)\n",
    "    print(l)"
   ]
  },
  {
   "cell_type": "code",
   "execution_count": 149,
   "metadata": {},
   "outputs": [
    {
     "data": {
      "text/plain": [
       "2"
      ]
     },
     "execution_count": 149,
     "metadata": {},
     "output_type": "execute_result"
    }
   ],
   "source": [
    "data = {'col_1': [3, 2, 1, 0], 'col_2': ['a', 'b', 'c', 'd','e']}\n",
    "len(set([len(data[i]) for i in data]))"
   ]
  },
  {
   "cell_type": "code",
   "execution_count": 160,
   "metadata": {},
   "outputs": [
    {
     "data": {
      "text/plain": [
       "3"
      ]
     },
     "execution_count": 160,
     "metadata": {},
     "output_type": "execute_result"
    }
   ],
   "source": [
    "row = {'col_1':[100,20],'col_3':['InserirLinha','Ok'],'col_4':[700.17,99]}\n",
    "num_linhas = len(set([len(row[i]) for i in row]))\n",
    "\n",
    "len([len(row[i]) for i in row])"
   ]
  },
  {
   "cell_type": "code",
   "execution_count": 140,
   "metadata": {},
   "outputs": [],
   "source": [
    "data['col_2'].append('e')"
   ]
  }
 ],
 "metadata": {
  "kernelspec": {
   "display_name": "Python 3",
   "language": "python",
   "name": "python3"
  },
  "language_info": {
   "codemirror_mode": {
    "name": "ipython",
    "version": 3
   },
   "file_extension": ".py",
   "mimetype": "text/x-python",
   "name": "python",
   "nbconvert_exporter": "python",
   "pygments_lexer": "ipython3",
   "version": "3.6.8"
  }
 },
 "nbformat": 4,
 "nbformat_minor": 2
}
